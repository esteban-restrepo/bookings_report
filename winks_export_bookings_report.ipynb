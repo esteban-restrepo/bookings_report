{
 "cells": [
  {
   "cell_type": "markdown",
   "metadata": {},
   "source": [
    "### Webscaping winks hotels"
   ]
  },
  {
   "cell_type": "code",
   "execution_count": 1,
   "metadata": {},
   "outputs": [],
   "source": [
    "from bs4 import BeautifulSoup\n",
    "from datetime import date, datetime\n",
    "from dateutil.relativedelta import relativedelta\n",
    "import io\n",
    "import pandas as pd\n",
    "import requests\n",
    "import time\n",
    "import yaml"
   ]
  },
  {
   "cell_type": "markdown",
   "metadata": {},
   "source": [
    "Defino el diccionario de configuración"
   ]
  },
  {
   "cell_type": "code",
   "execution_count": 19,
   "metadata": {},
   "outputs": [],
   "source": [
    "try:\n",
    "    with open('config.yaml', 'r') as ymlfile:\n",
    "        cfg = yaml.safe_load(ymlfile)\n",
    "except yaml.YAMLError as error:\n",
    "    print('Config file error')"
   ]
  },
  {
   "cell_type": "markdown",
   "metadata": {},
   "source": [
    "Leo la pagina del login de winks para saber el token"
   ]
  },
  {
   "cell_type": "code",
   "execution_count": 3,
   "metadata": {},
   "outputs": [],
   "source": [
    "#creo el objeto de session\n",
    "s = requests.session()\n",
    "#abro la pagina de login\n",
    "req = s.get('https://pms.winks.com.ar/users/sign_in')\n",
    "#parseo la pagina web del login\n",
    "html = BeautifulSoup(req.text, 'html.parser')\n",
    "#busco el token para el loggin\n",
    "token = html.find('input', {'name': 'authenticity_token'}).attrs['value']"
   ]
  },
  {
   "cell_type": "markdown",
   "metadata": {},
   "source": [
    "Genero el requerimiento de logueo"
   ]
  },
  {
   "cell_type": "code",
   "execution_count": 4,
   "metadata": {},
   "outputs": [
    {
     "name": "stdout",
     "output_type": "stream",
     "text": [
      "Succesful login\n"
     ]
    }
   ],
   "source": [
    "#genero el diccionario con el payload\n",
    "payload = {\n",
    "\t'utf8': '✓', \n",
    "    'authenticity_token': token, \n",
    "\t'user[login]': cfg['login']['user'], \n",
    "\t'user[password]': cfg['login']['password'],\n",
    "    'commit': 'Iniciar Sesión'\n",
    "}\n",
    "#intento el login\n",
    "req = s.post('https://pms.winks.com.ar/users/sign_in', data = payload)\n",
    "#valido la respuesta que esté bien\n",
    "if req.status_code == 200:\n",
    "    #valido que el login fuera correcto\n",
    "    html = BeautifulSoup(req.text, 'html.parser')\n",
    "    found_div = html.find('div', {'class': 'error'})\n",
    "    if found_div != None:\n",
    "        #como encuentra error se muestra el error\n",
    "        found_div = found_div.find('div').contents\n",
    "        print(found_div[0])\n",
    "        exit\n",
    "    else:\n",
    "        #Ejecuto el login\n",
    "        print('Succesful login')\n",
    "else:\n",
    "    print('Request login failed with status code: ' + req.status_code)\n"
   ]
  },
  {
   "cell_type": "markdown",
   "metadata": {},
   "source": [
    "Defino el payload para la generación del reporte"
   ]
  },
  {
   "cell_type": "code",
   "execution_count": 20,
   "metadata": {},
   "outputs": [],
   "source": [
    "#defino el inicio de las fecha\n",
    "dte_from = date.today() + relativedelta(months = cfg['data_range']['past_months'], day = 1)\n",
    "#defno el fin de las fecha\n",
    "dte_to = date.today() + relativedelta(months = cfg['data_range']['future_months'], day = 31)\n",
    "#armo el diccionario con el request\n",
    "payload = {\n",
    "    'from' : dte_from.strftime('%Y/%m/%d'),\n",
    "    'to' : dte_to.strftime('%Y/%m/%d'),\n",
    "    'date_type_filter' : cfg['filters']['date_type_filter'],\n",
    "    'include_cancelations' : cfg['filters']['include_cancelations'],\n",
    "    'break_down_taxes' : cfg['filters']['break_down_taxes'],\n",
    "    'show_bookings_info' : cfg['filters']['show_bookings_info'],\n",
    "    'show_guests_info' : cfg['filters']['show_guests_info'],\n",
    "    'show_agents_distribution' : cfg['filters']['show_agents_distribution']\n",
    "}"
   ]
  },
  {
   "cell_type": "markdown",
   "metadata": {},
   "source": [
    "Recorro los hoteles y guardo el reporte de excel"
   ]
  },
  {
   "cell_type": "code",
   "execution_count": 22,
   "metadata": {},
   "outputs": [],
   "source": [
    "#defino el indice del archivo\n",
    "index = 0\n",
    "#recorro cada hotel\n",
    "for id_hotel in cfg['hotels']:\n",
    "    #actualizo el hotel del payload\n",
    "    payload['accommodation_ids[]'] = [id_hotel]\n",
    "    #actualizo la moneda del payload\n",
    "    payload['currency_id'] = cfg['hotels'][id_hotel]['currency']\n",
    "    #genero el request\n",
    "    req = s.get('https://pms.winks.com.ar/booking_reports/global', params = payload)\n",
    "    #valido que estuviera correcta la respuesta\n",
    "    if req.status_code != 200:\n",
    "        print('Request failed with status code: ' + req.status_code)\n",
    "        time.sleep(5)\n",
    "        quit()   \n",
    "    #creo el objeto de pandas que parsea el texto de la pagina\n",
    "    dfs = pd.read_html(req.content, encoding='utf8')\n",
    "    #selecciono la tabla a usar dentro de los data sets creados\n",
    "    df = dfs[0]\n",
    "    #busco el nombre del hotel\n",
    "    hotel_name = df.iat[0, 0]\n",
    "    hotel_name = hotel_name[4:]\n",
    "    #elimino la primera fila\n",
    "    df = df.drop(labels=0, axis=0)\n",
    "    #arreglo los nombres de las columnas, primero concateno los campos que me interesan\n",
    "    df.columns = df.columns.map('{0[1]}_{0[2]}'.format)\n",
    "    #paso todo a minisculas\n",
    "    df.columns = df.columns.str.lower()\n",
    "    #reemplazo espacios\n",
    "    df.columns = df.columns.str.replace(' ', '_')\n",
    "    #agrego el hotel como columna\n",
    "    df.insert(0, 'hotel_name', hotel_name)\n",
    "    #valido que quiera archivos separados o que esté consolidado\n",
    "    if cfg['consolidated'] == 'true':\n",
    "        #valido que sea el index 1 para crear el dataframe\n",
    "        if index == 0:\n",
    "            df_cons = df\n",
    "        else:\n",
    "            df_cons = pd.concat([df_cons, df], ignore_index=True)\n",
    "    else:\n",
    "        #guardo el archivo separado\n",
    "        df.to_csv(cfg['download_path'] + 'bookings_report_file_' + cfg['hotels'][id_hotel]['name'] + '_' + datetime.now().strftime('%Y%m%d_%H%M%S') + '.csv', sep=';', index=False)\n",
    "    #adelanto el indice\n",
    "    index += 1\n",
    "#valido nuevamente que quiera el archivo consolidado para guardarlo\n",
    "if cfg['consolidated'] == 'true':\n",
    "    df_cons.to_csv(cfg['download_path'] + 'bookings_report_file_consolidated_' + datetime.now().strftime('%Y%m%d_%H%M%S') + '.csv', sep=';', index=False)\n"
   ]
  }
 ],
 "metadata": {
  "kernelspec": {
   "display_name": "Python 3",
   "language": "python",
   "name": "python3"
  },
  "language_info": {
   "codemirror_mode": {
    "name": "ipython",
    "version": 3
   },
   "file_extension": ".py",
   "mimetype": "text/x-python",
   "name": "python",
   "nbconvert_exporter": "python",
   "pygments_lexer": "ipython3",
   "version": "3.12.0"
  }
 },
 "nbformat": 4,
 "nbformat_minor": 2
}
